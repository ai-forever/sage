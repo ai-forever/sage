{
 "cells": [
  {
   "cell_type": "markdown",
   "id": "cdc00db2-dd1a-488c-98fe-6a16e7290688",
   "metadata": {},
   "source": [
    "# Imports"
   ]
  },
  {
   "cell_type": "code",
   "execution_count": null,
   "id": "7ed603cb-8433-4df4-a05a-001a8589f313",
   "metadata": {},
   "outputs": [],
   "source": [
    "! git clone https://github.com/ai-forever/sage.git"
   ]
  },
  {
   "cell_type": "code",
   "execution_count": null,
   "id": "26d171b1-381a-4989-ad71-cdec2a1a545c",
   "metadata": {},
   "outputs": [],
   "source": [
    "cd sage"
   ]
  },
  {
   "cell_type": "code",
   "execution_count": null,
   "id": "1c9ba312-3fa4-4070-ad3e-4e751c008d46",
   "metadata": {},
   "outputs": [],
   "source": [
    "# change to pip install -e \".[errant]\" in case of zsh\n",
    "\n",
    "! pip install .\n",
    "! pip install -e .[errant]"
   ]
  },
  {
   "cell_type": "code",
   "execution_count": 13,
   "id": "fe6c971a-29f1-4040-af2d-10c5d7cc153a",
   "metadata": {},
   "outputs": [],
   "source": [
    "import os\n",
    "from sage.pipeline import PipelineConfig\n",
    "from sage.pipeline import AugmentationPipeline\n",
    "from sage.utils import DatasetsAvailable"
   ]
  },
  {
   "cell_type": "markdown",
   "id": "a4f6502a-5306-46ab-abc0-f25949d0e8d4",
   "metadata": {},
   "source": [
    "# Basic Use"
   ]
  },
  {
   "cell_type": "markdown",
   "id": "c03a814e-3ce9-41dd-ac3a-c0f076c08286",
   "metadata": {},
   "source": [
    "Creates an augmentation pipeline that automatically adds and shuffles all available augmentors without manual configuration."
   ]
  },
  {
   "cell_type": "code",
   "execution_count": null,
   "id": "6b1a3f27-0d71-4ed8-8c08-41ec7e2bc780",
   "metadata": {},
   "outputs": [
    {
     "data": {
      "application/vnd.jupyter.widget-view+json": {
       "model_id": "226587c0dd644ada9c2b05bd8a2f000d",
       "version_major": 2,
       "version_minor": 0
      },
      "text/plain": [
       "  0%|          | 0/1054 [00:00<?, ?it/s]"
      ]
     },
     "metadata": {},
     "output_type": "display_data"
    }
   ],
   "source": [
    "pipeline_config = PipelineConfig()\n",
    "pipeline = AugmentationPipeline(config=pipeline_config)\n",
    "\n",
    "sample_text = \"Заметьте, не я это предложил!\"\n",
    "augmented_text = pipeline.augment(sample_text, seed=1)\n",
    "\n",
    "print(augmented_text)"
   ]
  },
  {
   "cell_type": "code",
   "execution_count": 2,
   "id": "aba3bada-7b32-4d70-894b-50795956db09",
   "metadata": {},
   "outputs": [
    {
     "data": {
      "application/vnd.jupyter.widget-view+json": {
       "model_id": "14f62fe7cdb54ce4b8c237725eb9654e",
       "version_major": 2,
       "version_minor": 0
      },
      "text/plain": [
       "  0%|          | 0/1601 [00:00<?, ?it/s]"
      ]
     },
     "metadata": {},
     "output_type": "display_data"
    },
    {
     "data": {
      "application/vnd.jupyter.widget-view+json": {
       "model_id": "0b4c9c14d29e40a0b6d24c6009ed0154",
       "version_major": 2,
       "version_minor": 0
      },
      "text/plain": [
       "  0%|          | 0/1 [00:00<?, ?it/s]"
      ]
     },
     "metadata": {},
     "output_type": "display_data"
    },
    {
     "name": "stdout",
     "output_type": "stream",
     "text": [
      "home. you kuys, I c) goingScrew m\n"
     ]
    }
   ],
   "source": [
    "pipeline_config = PipelineConfig('en')\n",
    "pipeline = AugmentationPipeline(config=pipeline_config)\n",
    "\n",
    "sample_text = \"Screw you guys, I am going home. (c)\"\n",
    "augmented_text = pipeline.augment(sample_text, seed=1)\n",
    "\n",
    "print(augmented_text)"
   ]
  },
  {
   "cell_type": "markdown",
   "id": "4a39895e-7215-4c4d-a0e6-8636d4947762",
   "metadata": {},
   "source": [
    "# Custom use"
   ]
  },
  {
   "cell_type": "markdown",
   "id": "65d27513-93a9-4f3e-949c-ea2319b7a73a",
   "metadata": {},
   "source": [
    "### Russian"
   ]
  },
  {
   "cell_type": "markdown",
   "id": "4dd05ac7-3fac-4f26-ab86-13d14fcfcffc",
   "metadata": {},
   "source": [
    "Creates a pipeline , manually sets parameters for the character augmentor and SBS corruptor, creates an AugmentationPipeline with custom settings and disabled shuffling, and manually adds only the necessary augmentors (character and SBS corruptor). "
   ]
  },
  {
   "cell_type": "code",
   "execution_count": 4,
   "id": "685a7bea-4b4d-4455-8a53-29117eca305f",
   "metadata": {},
   "outputs": [
    {
     "data": {
      "application/vnd.jupyter.widget-view+json": {
       "model_id": "baf8e100b13f40d69d799db687c2887c",
       "version_major": 2,
       "version_minor": 0
      },
      "text/plain": [
       "  0%|          | 0/1054 [00:00<?, ?it/s]"
      ]
     },
     "metadata": {},
     "output_type": "display_data"
    },
    {
     "data": {
      "application/vnd.jupyter.widget-view+json": {
       "model_id": "fc4fc196bf8b43de891c76e1c80a8d14",
       "version_major": 2,
       "version_minor": 0
      },
      "text/plain": [
       "  0%|          | 0/1054 [00:00<?, ?it/s]"
      ]
     },
     "metadata": {},
     "output_type": "display_data"
    },
    {
     "name": "stdout",
     "output_type": "stream",
     "text": [
      "Зметьте, не педложи! этоя\n"
     ]
    }
   ],
   "source": [
    "pipeline_config = PipelineConfig()\n",
    "\n",
    "# Set only the necessary parameters in the config using methods\n",
    "pipeline_config.set_char_params(min_aug=2, max_aug=4, unit_prob=0.3)\n",
    "pipeline_config.set_sbsc_params(lang=\"ru\", dataset_name_or_path=DatasetsAvailable.MedSpellchecker.name, dataset_split=\"test\")\n",
    "\n",
    "pipeline = AugmentationPipeline(config=pipeline_config, shuffle=False)\n",
    "\n",
    "# Add the necessary augmenters\n",
    "pipeline.add_char_augmenter()\n",
    "pipeline.add_sbsc_augmenter()\n",
    "\n",
    "# Manually set the order of augmenters\n",
    "pipeline.set_order([1, 0])  # This sets the SBS corruptor to be applied first, followed by the character augmenter\n",
    "\n",
    "sample_text = \"Заметьте, не я это предложил!\"\n",
    "augmented_text = pipeline.augment(sample_text, seed=1)\n",
    "print(augmented_text)"
   ]
  },
  {
   "cell_type": "markdown",
   "id": "74894a34-11fe-4a73-bcae-cdf6e171bda0",
   "metadata": {},
   "source": [
    "### English"
   ]
  },
  {
   "cell_type": "code",
   "execution_count": 12,
   "id": "d5dbd55e-1ea5-45e9-a777-18a0fe60c680",
   "metadata": {},
   "outputs": [
    {
     "data": {
      "application/vnd.jupyter.widget-view+json": {
       "model_id": "66eedda3c3774ec88b19526f92aed221",
       "version_major": 2,
       "version_minor": 0
      },
      "text/plain": [
       "  0%|          | 0/1601 [00:00<?, ?it/s]"
      ]
     },
     "metadata": {},
     "output_type": "display_data"
    },
    {
     "data": {
      "application/vnd.jupyter.widget-view+json": {
       "model_id": "8a1c5833d1234d82b2cf21670596ff4a",
       "version_major": 2,
       "version_minor": 0
      },
      "text/plain": [
       "  0%|          | 0/1601 [00:00<?, ?it/s]"
      ]
     },
     "metadata": {},
     "output_type": "display_data"
    },
    {
     "data": {
      "application/vnd.jupyter.widget-view+json": {
       "model_id": "0d3aa42acdd84bb19228ff96f162cd7e",
       "version_major": 2,
       "version_minor": 0
      },
      "text/plain": [
       "  0%|          | 0/1 [00:00<?, ?it/s]"
      ]
     },
     "metadata": {},
     "output_type": "display_data"
    },
    {
     "data": {
      "application/vnd.jupyter.widget-view+json": {
       "model_id": "5a377f30d6b3427b96b17d5a12b641d2",
       "version_major": 2,
       "version_minor": 0
      },
      "text/plain": [
       "  0%|          | 0/1 [00:00<?, ?it/s]"
      ]
     },
     "metadata": {},
     "output_type": "display_data"
    },
    {
     "name": "stdout",
     "output_type": "stream",
     "text": [
      "ome. yau kuys, goin I() Screwm\n"
     ]
    }
   ],
   "source": [
    "pipeline_config = PipelineConfig()\n",
    "\n",
    "pipeline_config.set_word_params(min_aug=1, max_aug=3, unit_prob=0.3)\n",
    "pipeline_config.set_sbsc_params(lang=\"en\", dataset_name_or_path=os.path.join(\"data\", \"example_data\", \"jfleg\"), dataset_split=\"test\")\n",
    "\n",
    "pipeline = AugmentationPipeline(config=pipeline_config, shuffle=False)\n",
    "\n",
    "pipeline.add_char_augmenter()\n",
    "pipeline.add_word_augmenter()\n",
    "pipeline.add_sbsc_augmenter()\n",
    "\n",
    "text = \"Screw you guys, I am going home. (c)\"\n",
    "augmented_text = pipeline.augment(text, seed=1)\n",
    "print(augmented_text)"
   ]
  }
 ],
 "metadata": {
  "kernelspec": {
   "display_name": "Python 3 (ipykernel)",
   "language": "python",
   "name": "python3"
  },
  "language_info": {
   "codemirror_mode": {
    "name": "ipython",
    "version": 3
   },
   "file_extension": ".py",
   "mimetype": "text/x-python",
   "name": "python",
   "nbconvert_exporter": "python",
   "pygments_lexer": "ipython3",
   "version": "3.9.13"
  }
 },
 "nbformat": 4,
 "nbformat_minor": 5
}
